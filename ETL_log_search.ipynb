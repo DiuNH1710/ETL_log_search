{
 "cells": [
  {
   "cell_type": "code",
   "execution_count": 1,
   "id": "63d58ea4",
   "metadata": {},
   "outputs": [],
   "source": [
    "from pyspark.sql import SparkSession\n",
    "from pyspark.sql.functions import *\n",
    "from pyspark.sql.window import Window"
   ]
  },
  {
   "cell_type": "code",
   "execution_count": 2,
   "id": "50a3f5ce",
   "metadata": {},
   "outputs": [],
   "source": [
    "\n",
    "spark = (\n",
    "    SparkSession.builder\n",
    "    .appName(\"ReadLocalParquet\")\n",
    "    .master(\"local[*]\")\n",
    "    .config(\"spark.hadoop.fs.defaultFS\", \"file:///\")\n",
    "    .config(\"spark.hadoop.fs.file.impl\", \"org.apache.hadoop.fs.LocalFileSystem\")\n",
    "    .config(\"spark.sql.execution.arrow.pyspark.enabled\", \"true\")\n",
    "    .getOrCreate()\n",
    ")"
   ]
  },
  {
   "cell_type": "code",
   "execution_count": 3,
   "id": "12804fcf",
   "metadata": {},
   "outputs": [
    {
     "name": "stdout",
     "output_type": "stream",
     "text": [
      "['.part-00000-a4016f8f-c573-42d0-aa92-3367f02f0c94-c000.snappy.parquet.crc', 'part-00000-a4016f8f-c573-42d0-aa92-3367f02f0c94-c000.snappy.parquet', '_SUCCESS']\n"
     ]
    }
   ],
   "source": [
    "parquet_path=\"log_search/20220601/\"\n",
    "import os\n",
    "\n",
    "print(os.listdir(parquet_path))\n",
    "\n"
   ]
  },
  {
   "cell_type": "code",
   "execution_count": 3,
   "id": "383cdb93",
   "metadata": {},
   "outputs": [
    {
     "name": "stdout",
     "output_type": "stream",
     "text": [
      "File size: 4.62 MB\n"
     ]
    }
   ],
   "source": [
    "import os\n",
    "size_mb = os.path.getsize(\"log_search/20220601/part-00000-a4016f8f-c573-42d0-aa92-3367f02f0c94-c000.snappy.parquet\") / (1024*1024)\n",
    "print(f\"File size: {size_mb:.2f} MB\")\n"
   ]
  },
  {
   "cell_type": "code",
   "execution_count": 4,
   "id": "dfba9d89",
   "metadata": {},
   "outputs": [],
   "source": [
    "# df = spark.read.parquet(\"file:///D:/study_de/Homework/log_search_etl/log_search/20220601/part-00000-a4016f8f-c573-42d0-aa92-3367f02f0c94-c000.snappy.parquet\")\n",
    "# df.printSchema()\n"
   ]
  },
  {
   "cell_type": "code",
   "execution_count": null,
   "id": "675930e2",
   "metadata": {},
   "outputs": [],
   "source": []
  },
  {
   "cell_type": "code",
   "execution_count": 4,
   "id": "5b895b0b",
   "metadata": {},
   "outputs": [
    {
     "name": "stdout",
     "output_type": "stream",
     "text": [
      "root\n",
      " |-- eventID: string (nullable = true)\n",
      " |-- datetime: string (nullable = true)\n",
      " |-- user_id: string (nullable = true)\n",
      " |-- keyword: string (nullable = true)\n",
      " |-- category: string (nullable = true)\n",
      " |-- proxy_isp: string (nullable = true)\n",
      " |-- platform: string (nullable = true)\n",
      " |-- networkType: string (nullable = true)\n",
      " |-- action: string (nullable = true)\n",
      " |-- userPlansMap: array (nullable = true)\n",
      " |    |-- element: string (containsNull = true)\n",
      "\n"
     ]
    }
   ],
   "source": [
    "import glob\n",
    "from pyspark.sql import SparkSession\n",
    "\n",
    "spark = SparkSession.builder.appName(\"ReadParquet\").getOrCreate()\n",
    "\n",
    "# Tìm tất cả file .parquet trong thư mục\n",
    "files = glob.glob(r\"D:\\study_de\\Homework\\log_search_etl\\log_search\\20220601\\*.parquet\")\n",
    "\n",
    "# Đọc tất cả file và union lại\n",
    "df = spark.read.parquet(*files)\n",
    "df.printSchema()\n"
   ]
  },
  {
   "cell_type": "code",
   "execution_count": 5,
   "id": "eda03764",
   "metadata": {},
   "outputs": [
    {
     "name": "stdout",
     "output_type": "stream",
     "text": [
      "+--------+\n",
      "|category|\n",
      "+--------+\n",
      "|enter   |\n",
      "|quit    |\n",
      "+--------+\n",
      "\n"
     ]
    }
   ],
   "source": [
    "df.select(\"category\").distinct().show(truncate=False)"
   ]
  },
  {
   "cell_type": "markdown",
   "id": "82e3fdfb",
   "metadata": {},
   "source": []
  },
  {
   "cell_type": "code",
   "execution_count": null,
   "id": "5db11934",
   "metadata": {},
   "outputs": [
    {
     "name": "stdout",
     "output_type": "stream",
     "text": [
      "+--------------------+--------------------+--------+--------------------+--------+---------+--------------------+-----------+------+--------------------+\n",
      "|             eventID|            datetime| user_id|             keyword|category|proxy_isp|            platform|networkType|action|        userPlansMap|\n",
      "+--------------------+--------------------+--------+--------------------+--------+---------+--------------------+-----------+------+--------------------+\n",
      "|61804316-6b89-4cf...|2022-06-01 18:59:...|    NULL|            trữ tình|   enter|     vnpt|   fplay-ottbox-2019|   ethernet|search|                NULL|\n",
      "|22c35287-9fe1-487...|2022-06-01 18:59:...|44887906|            trữ tình|   enter|     vnpt|   fplay-ottbox-2019|   ethernet|search|                  []|\n",
      "|f9af5a95-1f72-486...|2022-06-01 18:59:...| 2719170|              bolero|   enter|  viettel|   fplay-ottbox-2019|   ethernet|search|[Kênh Gia Đình:pr...|\n",
      "|fd53edee-132d-4ac...|2022-06-01 15:00:...|    NULL|amy schumer: trực...|   enter|     vnpt| smarttv-ceb-nextgen|       NULL|search|                NULL|\n",
      "|d51e6e6c-2765-4a8...|2022-06-01 19:00:...| 8830996|cậu mang à sĩ hanako|   enter|     vnpt|smarttv-sony-android|       wifi|search|[Kênh Gia Đình:pr...|\n",
      "+--------------------+--------------------+--------+--------------------+--------+---------+--------------------+-----------+------+--------------------+\n",
      "only showing top 5 rows\n",
      "\n"
     ]
    }
   ],
   "source": [
    "df.show(5)"
   ]
  },
  {
   "cell_type": "code",
   "execution_count": 8,
   "id": "2ec5b683",
   "metadata": {},
   "outputs": [],
   "source": [
    "from pyspark.sql import DataFrame\n",
    "from pyspark.sql.functions import col, count, row_number\n",
    "from pyspark.sql.window import Window\n",
    "\n",
    "def get_top_keywords_per_user(df: DataFrame) -> DataFrame:\n",
    "\n",
    "    # Bước 1: Đếm số lần tìm mỗi keyword của từng user\n",
    "    keyword_count = (\n",
    "        df.groupBy(\"user_id\", \"keyword\")\n",
    "          .agg(count(\"*\").alias(\"search_count\"))\n",
    "    )\n",
    "\n",
    "    # Bước 2: Xác định keyword có tần suất cao nhất cho từng user_id\n",
    "    windowSpec = Window.partitionBy(\"user_id\").orderBy(col(\"search_count\").desc())\n",
    "\n",
    "    top_keywords = (\n",
    "        keyword_count\n",
    "        .withColumn(\"rank\", row_number().over(windowSpec))\n",
    "        .filter(col(\"rank\") == 1)\n",
    "        .select(\"user_id\", \"keyword\", \"search_count\")\n",
    "        .orderBy(col(\"search_count\").desc()) \n",
    "    )\n",
    "\n",
    "    return top_keywords\n"
   ]
  },
  {
   "cell_type": "code",
   "execution_count": 10,
   "id": "35bbd075",
   "metadata": {},
   "outputs": [
    {
     "name": "stdout",
     "output_type": "stream",
     "text": [
      "+--------+--------------------+------------+\n",
      "|user_id |keyword             |search_count|\n",
      "+--------+--------------------+------------+\n",
      "|NULL    |NULL                |681         |\n",
      "|96076212|ZUMBA               |70          |\n",
      "|48115586|HOOWOO              |54          |\n",
      "|95436495|FPT                 |41          |\n",
      "|5608949 |JOJO                |33          |\n",
      "|3765556 |DOREMON             |31          |\n",
      "|49513555|MINECRAFT           |28          |\n",
      "|1863834 |COIDABANHTRUCTIEP   |27          |\n",
      "|43849602|BOBOIBOY            |25          |\n",
      "|49866211|paw                 |23          |\n",
      "|5737883 |mr. queen           |21          |\n",
      "|49201339|KADAOKE             |20          |\n",
      "|2033606 |DMSS                |19          |\n",
      "|43587350|LUFF                |19          |\n",
      "|40851705|HOPE                |17          |\n",
      "|49948786|NULL                |17          |\n",
      "|49317752|GONJIAM             |15          |\n",
      "|49628072|TRUCTIEPBONGDAHOMNAY|15          |\n",
      "|92990723|yêu nhầm chị dâu    |15          |\n",
      "|06480429|hậu duệ mặt trời    |14          |\n",
      "+--------+--------------------+------------+\n",
      "only showing top 20 rows\n",
      "\n"
     ]
    }
   ],
   "source": [
    "result = get_top_keywords_per_user(df)\n",
    "\n",
    "result.show(20, truncate=False)"
   ]
  },
  {
   "cell_type": "code",
   "execution_count": 11,
   "id": "b7593c3b",
   "metadata": {},
   "outputs": [
    {
     "name": "stdout",
     "output_type": "stream",
     "text": [
      "+--------------------------------------------+-----+\n",
      "|keyword                                     |count|\n",
      "+--------------------------------------------+-----+\n",
      "|NULL                                        |5048 |\n",
      "|Liên Minh Công Lý: Phiên bản của Zack Snyder|724  |\n",
      "|fairy tail                                  |517  |\n",
      "|cuộc chiến thượng lưu                       |416  |\n",
      "|yêu nhầm chị dâu                            |335  |\n",
      "|Thử Thách Thần Tượng                        |294  |\n",
      "|running man                                 |292  |\n",
      "|siêu nhân                                   |291  |\n",
      "|kẻ quyến rũ đại tài                         |284  |\n",
      "|sao băng                                    |282  |\n",
      "+--------------------------------------------+-----+\n",
      "only showing top 10 rows\n",
      "\n"
     ]
    }
   ],
   "source": [
    "df.select('keyword').groupBy('keyword').count().orderBy('count',ascending = False).show(10,truncate=False)"
   ]
  },
  {
   "cell_type": "code",
   "execution_count": null,
   "id": "bdc93d49",
   "metadata": {},
   "outputs": [],
   "source": []
  }
 ],
 "metadata": {
  "kernelspec": {
   "display_name": "Python 3",
   "language": "python",
   "name": "python3"
  },
  "language_info": {
   "codemirror_mode": {
    "name": "ipython",
    "version": 3
   },
   "file_extension": ".py",
   "mimetype": "text/x-python",
   "name": "python",
   "nbconvert_exporter": "python",
   "pygments_lexer": "ipython3",
   "version": "3.12.6"
  }
 },
 "nbformat": 4,
 "nbformat_minor": 5
}
